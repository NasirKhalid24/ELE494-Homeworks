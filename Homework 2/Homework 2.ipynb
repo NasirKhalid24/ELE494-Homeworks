{
 "cells": [
  {
   "cell_type": "markdown",
   "metadata": {},
   "source": [
    "# Homework 1 - Nasir Khalid - 65082\n",
    "\n",
    "-------------------------------------------------------"
   ]
  },
  {
   "cell_type": "markdown",
   "metadata": {},
   "source": [
    "### Task 1\n",
    "-------------------------------------------------------\n",
    "\n",
    "The goal of this part to develop a theoretical understanding of how do you get the expressions with backpropagation algorithm. Suppose you have a three layer fully connected neural network (input layer, hidden layer and output layer). Following are some further \"specications\":\n",
    "\n",
    "- The input feature vectors are d dimensional\n",
    "- There are N feature vectors in you training dataset\n",
    "- There are H hidden nodes and K output nodes (for K mutually exclusive classes)\n",
    "- This neural network is to be trained for classication under cross-entropy loss function\n",
    "\n",
    "Derive the equations for batch gradient updates for the input-to-hidden unit weights and hidden-to-output unit weights. Is it wise to use a learning rate parameter? Why?"
   ]
  },
  {
   "cell_type": "code",
   "execution_count": null,
   "metadata": {},
   "outputs": [],
   "source": []
  }
 ],
 "metadata": {
  "kernelspec": {
   "display_name": "Python 3",
   "language": "python",
   "name": "python3"
  },
  "language_info": {
   "codemirror_mode": {
    "name": "ipython",
    "version": 3
   },
   "file_extension": ".py",
   "mimetype": "text/x-python",
   "name": "python",
   "nbconvert_exporter": "python",
   "pygments_lexer": "ipython3",
   "version": "3.7.0"
  }
 },
 "nbformat": 4,
 "nbformat_minor": 2
}
